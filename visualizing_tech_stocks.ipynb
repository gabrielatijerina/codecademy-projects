{
 "cells": [
  {
   "cell_type": "markdown",
   "metadata": {},
   "source": [
    "## Visualizing Tech Stocks"
   ]
  },
  {
   "cell_type": "markdown",
   "metadata": {},
   "source": [
    "In this project you will analyze and visualize the top 5 highest valued technology stocks, as of the end of the first half of 2019:\n",
    "* Microsoft (NASDAQ:MSFT)\n",
    "* Amazon (NASDAQ:AMZN)\n",
    "* Apple (NASDAQ:AAPL)\n",
    "* Alphabet (NASDAQ:GOOG)\n",
    "* Facebook (NASDAQ:FB).\n",
    "\n",
    "Using Pandas, Pandas-Datarader, and Matplotlib, you will take a visual look into the similarities and differences between these stocks during the six month period from January through June 2019. In your analysis you will perform the following:\n",
    "1. Visualize the stock prices using matplotlib\n",
    "2. Calculate and visualize the daily simple rate of return \n",
    "3. Calculate and visualize the mean rates of return\n",
    "4. Calculate and visualize the variances of the returns\n",
    "5. Calculate and visualize the standard deviations of the returns\n",
    "6. Write a short thesis based on the correlations between the tech stocks"
   ]
  },
  {
   "cell_type": "markdown",
   "metadata": {},
   "source": [
    "### 1. Import Packages"
   ]
  },
  {
   "cell_type": "markdown",
   "metadata": {},
   "source": [
    "#### Step 1: Import Data Manipulation Packages\n",
    "Import the pandas and numpy module as `pd` and `np`, respectively"
   ]
  },
  {
   "cell_type": "code",
   "execution_count": 1,
   "metadata": {
    "ExecuteTime": {
     "end_time": "2019-09-20T17:07:04.003420Z",
     "start_time": "2019-09-20T17:07:03.119028Z"
    }
   },
   "outputs": [],
   "source": [
    "import pandas as pd\n",
    "import numpy as np"
   ]
  },
  {
   "cell_type": "markdown",
   "metadata": {},
   "source": [
    "#### Step 2: Import Financial Package\n",
    "Import the pandas data reader module as `web`. (Ensure the module is installed with `pip install pandas-datareader` on the command line)"
   ]
  },
  {
   "cell_type": "code",
   "execution_count": 3,
   "metadata": {
    "ExecuteTime": {
     "end_time": "2019-09-20T17:09:14.195426Z",
     "start_time": "2019-09-20T17:09:13.727288Z"
    }
   },
   "outputs": [],
   "source": [
    "import pandas_datareader as web"
   ]
  },
  {
   "cell_type": "markdown",
   "metadata": {},
   "source": [
    "#### Step 3: Import Visualization Package\n",
    "Import the matplotlib `pyplot` module as `plt`. (Write `%matplotlib inline` below the import statement to allow your visualizations to appear beneath the code that generates them)"
   ]
  },
  {
   "cell_type": "code",
   "execution_count": 4,
   "metadata": {
    "ExecuteTime": {
     "end_time": "2019-09-20T17:09:59.493267Z",
     "start_time": "2019-09-20T17:09:59.116556Z"
    }
   },
   "outputs": [],
   "source": [
    "import matplotlib.pyplot as plt\n",
    "%matplotlib inline"
   ]
  },
  {
   "cell_type": "markdown",
   "metadata": {},
   "source": [
    "### 2. Load the adjusted closings for the top 5 tech stocks."
   ]
  },
  {
   "cell_type": "markdown",
   "metadata": {},
   "source": [
    "#### Step 1: Define Stocks\n",
    "Create a list named `symbols` containing the symbols for the top 5 tech stocks.\n",
    "#### Step 2: Create Dates\n",
    "Create a datetime object representing January 1st, 2019 named `start_date` and a datetime object representing July 1st, 2019 named `end_date`.\n",
    "#### Step 3: Retrieve Data\n",
    "Call the function `web.get_data_yahoo()` with arguments `symbols`, `start_date` and `end_date` and save the result to `stock_data`.\n",
    "#### Step 4: View Data\n",
    "View both `stock_data` and `stock_data['Adj Close']`. What information is stored in these DataFrames?"
   ]
  },
  {
   "cell_type": "code",
   "execution_count": 5,
   "metadata": {
    "ExecuteTime": {
     "end_time": "2019-09-20T17:30:17.329249Z",
     "start_time": "2019-09-20T17:30:17.193738Z"
    }
   },
   "outputs": [],
   "source": [
    "symbols = [\"MSFT\", \"AMZN\", \"AAPL\", \"GOOG\", \"FB\"]\n",
    "start_date = \"2019-01-01\"\n",
    "end_date = \"2019-07-01\"\n",
    "stock_data = web.get_data_yahoo(symbols, start_date, end_date)"
   ]
  },
  {
   "cell_type": "code",
   "execution_count": 6,
   "metadata": {
    "scrolled": true
   },
   "outputs": [
    {
     "data": {
      "text/html": [
       "<div>\n",
       "<style scoped>\n",
       "    .dataframe tbody tr th:only-of-type {\n",
       "        vertical-align: middle;\n",
       "    }\n",
       "\n",
       "    .dataframe tbody tr th {\n",
       "        vertical-align: top;\n",
       "    }\n",
       "\n",
       "    .dataframe thead tr th {\n",
       "        text-align: left;\n",
       "    }\n",
       "\n",
       "    .dataframe thead tr:last-of-type th {\n",
       "        text-align: right;\n",
       "    }\n",
       "</style>\n",
       "<table border=\"1\" class=\"dataframe\">\n",
       "  <thead>\n",
       "    <tr>\n",
       "      <th>Attributes</th>\n",
       "      <th colspan=\"5\" halign=\"left\">Adj Close</th>\n",
       "      <th colspan=\"5\" halign=\"left\">Close</th>\n",
       "      <th>...</th>\n",
       "      <th colspan=\"5\" halign=\"left\">Open</th>\n",
       "      <th colspan=\"5\" halign=\"left\">Volume</th>\n",
       "    </tr>\n",
       "    <tr>\n",
       "      <th>Symbols</th>\n",
       "      <th>MSFT</th>\n",
       "      <th>AMZN</th>\n",
       "      <th>AAPL</th>\n",
       "      <th>GOOG</th>\n",
       "      <th>FB</th>\n",
       "      <th>MSFT</th>\n",
       "      <th>AMZN</th>\n",
       "      <th>AAPL</th>\n",
       "      <th>GOOG</th>\n",
       "      <th>FB</th>\n",
       "      <th>...</th>\n",
       "      <th>MSFT</th>\n",
       "      <th>AMZN</th>\n",
       "      <th>AAPL</th>\n",
       "      <th>GOOG</th>\n",
       "      <th>FB</th>\n",
       "      <th>MSFT</th>\n",
       "      <th>AMZN</th>\n",
       "      <th>AAPL</th>\n",
       "      <th>GOOG</th>\n",
       "      <th>FB</th>\n",
       "    </tr>\n",
       "    <tr>\n",
       "      <th>Date</th>\n",
       "      <th></th>\n",
       "      <th></th>\n",
       "      <th></th>\n",
       "      <th></th>\n",
       "      <th></th>\n",
       "      <th></th>\n",
       "      <th></th>\n",
       "      <th></th>\n",
       "      <th></th>\n",
       "      <th></th>\n",
       "      <th></th>\n",
       "      <th></th>\n",
       "      <th></th>\n",
       "      <th></th>\n",
       "      <th></th>\n",
       "      <th></th>\n",
       "      <th></th>\n",
       "      <th></th>\n",
       "      <th></th>\n",
       "      <th></th>\n",
       "      <th></th>\n",
       "    </tr>\n",
       "  </thead>\n",
       "  <tbody>\n",
       "    <tr>\n",
       "      <th>2019-01-02</th>\n",
       "      <td>98.148849</td>\n",
       "      <td>1539.130005</td>\n",
       "      <td>38.439735</td>\n",
       "      <td>1045.849976</td>\n",
       "      <td>135.679993</td>\n",
       "      <td>101.120003</td>\n",
       "      <td>1539.130005</td>\n",
       "      <td>39.480000</td>\n",
       "      <td>1045.849976</td>\n",
       "      <td>135.679993</td>\n",
       "      <td>...</td>\n",
       "      <td>99.550003</td>\n",
       "      <td>1465.199951</td>\n",
       "      <td>38.722500</td>\n",
       "      <td>1016.570007</td>\n",
       "      <td>128.990005</td>\n",
       "      <td>35329300.0</td>\n",
       "      <td>7983100.0</td>\n",
       "      <td>148158800.0</td>\n",
       "      <td>1532600.0</td>\n",
       "      <td>28146200.0</td>\n",
       "    </tr>\n",
       "    <tr>\n",
       "      <th>2019-01-03</th>\n",
       "      <td>94.538162</td>\n",
       "      <td>1500.280029</td>\n",
       "      <td>34.610851</td>\n",
       "      <td>1016.059998</td>\n",
       "      <td>131.740005</td>\n",
       "      <td>97.400002</td>\n",
       "      <td>1500.280029</td>\n",
       "      <td>35.547501</td>\n",
       "      <td>1016.059998</td>\n",
       "      <td>131.740005</td>\n",
       "      <td>...</td>\n",
       "      <td>100.099998</td>\n",
       "      <td>1520.010010</td>\n",
       "      <td>35.994999</td>\n",
       "      <td>1041.000000</td>\n",
       "      <td>134.690002</td>\n",
       "      <td>42579100.0</td>\n",
       "      <td>6975600.0</td>\n",
       "      <td>365248800.0</td>\n",
       "      <td>1841100.0</td>\n",
       "      <td>22717900.0</td>\n",
       "    </tr>\n",
       "    <tr>\n",
       "      <th>2019-01-04</th>\n",
       "      <td>98.935059</td>\n",
       "      <td>1575.390015</td>\n",
       "      <td>36.088364</td>\n",
       "      <td>1070.709961</td>\n",
       "      <td>137.949997</td>\n",
       "      <td>101.930000</td>\n",
       "      <td>1575.390015</td>\n",
       "      <td>37.064999</td>\n",
       "      <td>1070.709961</td>\n",
       "      <td>137.949997</td>\n",
       "      <td>...</td>\n",
       "      <td>99.720001</td>\n",
       "      <td>1530.000000</td>\n",
       "      <td>36.132500</td>\n",
       "      <td>1032.589966</td>\n",
       "      <td>134.009995</td>\n",
       "      <td>44060600.0</td>\n",
       "      <td>9182600.0</td>\n",
       "      <td>234428400.0</td>\n",
       "      <td>2093900.0</td>\n",
       "      <td>29002100.0</td>\n",
       "    </tr>\n",
       "    <tr>\n",
       "      <th>2019-01-07</th>\n",
       "      <td>99.061226</td>\n",
       "      <td>1629.510010</td>\n",
       "      <td>36.008041</td>\n",
       "      <td>1068.390015</td>\n",
       "      <td>138.050003</td>\n",
       "      <td>102.059998</td>\n",
       "      <td>1629.510010</td>\n",
       "      <td>36.982498</td>\n",
       "      <td>1068.390015</td>\n",
       "      <td>138.050003</td>\n",
       "      <td>...</td>\n",
       "      <td>101.639999</td>\n",
       "      <td>1602.310059</td>\n",
       "      <td>37.174999</td>\n",
       "      <td>1071.500000</td>\n",
       "      <td>137.559998</td>\n",
       "      <td>35656100.0</td>\n",
       "      <td>7993200.0</td>\n",
       "      <td>219111200.0</td>\n",
       "      <td>1981900.0</td>\n",
       "      <td>20089300.0</td>\n",
       "    </tr>\n",
       "    <tr>\n",
       "      <th>2019-01-08</th>\n",
       "      <td>99.779510</td>\n",
       "      <td>1656.579956</td>\n",
       "      <td>36.694466</td>\n",
       "      <td>1076.280029</td>\n",
       "      <td>142.529999</td>\n",
       "      <td>102.800003</td>\n",
       "      <td>1656.579956</td>\n",
       "      <td>37.687500</td>\n",
       "      <td>1076.280029</td>\n",
       "      <td>142.529999</td>\n",
       "      <td>...</td>\n",
       "      <td>103.040001</td>\n",
       "      <td>1664.689941</td>\n",
       "      <td>37.389999</td>\n",
       "      <td>1076.109985</td>\n",
       "      <td>139.889999</td>\n",
       "      <td>31514400.0</td>\n",
       "      <td>8881400.0</td>\n",
       "      <td>164101200.0</td>\n",
       "      <td>1764900.0</td>\n",
       "      <td>26263800.0</td>\n",
       "    </tr>\n",
       "    <tr>\n",
       "      <th>...</th>\n",
       "      <td>...</td>\n",
       "      <td>...</td>\n",
       "      <td>...</td>\n",
       "      <td>...</td>\n",
       "      <td>...</td>\n",
       "      <td>...</td>\n",
       "      <td>...</td>\n",
       "      <td>...</td>\n",
       "      <td>...</td>\n",
       "      <td>...</td>\n",
       "      <td>...</td>\n",
       "      <td>...</td>\n",
       "      <td>...</td>\n",
       "      <td>...</td>\n",
       "      <td>...</td>\n",
       "      <td>...</td>\n",
       "      <td>...</td>\n",
       "      <td>...</td>\n",
       "      <td>...</td>\n",
       "      <td>...</td>\n",
       "      <td>...</td>\n",
       "    </tr>\n",
       "    <tr>\n",
       "      <th>2019-06-25</th>\n",
       "      <td>130.544037</td>\n",
       "      <td>1878.270020</td>\n",
       "      <td>47.992500</td>\n",
       "      <td>1086.349976</td>\n",
       "      <td>188.839996</td>\n",
       "      <td>133.429993</td>\n",
       "      <td>1878.270020</td>\n",
       "      <td>48.892502</td>\n",
       "      <td>1086.349976</td>\n",
       "      <td>188.839996</td>\n",
       "      <td>...</td>\n",
       "      <td>137.250000</td>\n",
       "      <td>1911.839966</td>\n",
       "      <td>49.607498</td>\n",
       "      <td>1112.660034</td>\n",
       "      <td>192.880005</td>\n",
       "      <td>33327400.0</td>\n",
       "      <td>3012300.0</td>\n",
       "      <td>84281200.0</td>\n",
       "      <td>1546900.0</td>\n",
       "      <td>16750300.0</td>\n",
       "    </tr>\n",
       "    <tr>\n",
       "      <th>2019-06-26</th>\n",
       "      <td>131.033249</td>\n",
       "      <td>1897.829956</td>\n",
       "      <td>49.030533</td>\n",
       "      <td>1079.800049</td>\n",
       "      <td>187.660004</td>\n",
       "      <td>133.929993</td>\n",
       "      <td>1897.829956</td>\n",
       "      <td>49.950001</td>\n",
       "      <td>1079.800049</td>\n",
       "      <td>187.660004</td>\n",
       "      <td>...</td>\n",
       "      <td>134.350006</td>\n",
       "      <td>1892.479980</td>\n",
       "      <td>49.442501</td>\n",
       "      <td>1086.500000</td>\n",
       "      <td>189.539993</td>\n",
       "      <td>23657700.0</td>\n",
       "      <td>2441900.0</td>\n",
       "      <td>104270000.0</td>\n",
       "      <td>1810900.0</td>\n",
       "      <td>12808600.0</td>\n",
       "    </tr>\n",
       "    <tr>\n",
       "      <th>2019-06-27</th>\n",
       "      <td>131.248459</td>\n",
       "      <td>1904.280029</td>\n",
       "      <td>49.015808</td>\n",
       "      <td>1076.010010</td>\n",
       "      <td>189.500000</td>\n",
       "      <td>134.149994</td>\n",
       "      <td>1904.280029</td>\n",
       "      <td>49.935001</td>\n",
       "      <td>1076.010010</td>\n",
       "      <td>189.500000</td>\n",
       "      <td>...</td>\n",
       "      <td>134.139999</td>\n",
       "      <td>1902.000000</td>\n",
       "      <td>50.072498</td>\n",
       "      <td>1084.000000</td>\n",
       "      <td>189.880005</td>\n",
       "      <td>16557500.0</td>\n",
       "      <td>2141700.0</td>\n",
       "      <td>83598800.0</td>\n",
       "      <td>1004300.0</td>\n",
       "      <td>11159000.0</td>\n",
       "    </tr>\n",
       "    <tr>\n",
       "      <th>2019-06-28</th>\n",
       "      <td>131.062592</td>\n",
       "      <td>1893.630005</td>\n",
       "      <td>48.569180</td>\n",
       "      <td>1080.910034</td>\n",
       "      <td>193.000000</td>\n",
       "      <td>133.960007</td>\n",
       "      <td>1893.630005</td>\n",
       "      <td>49.480000</td>\n",
       "      <td>1080.910034</td>\n",
       "      <td>193.000000</td>\n",
       "      <td>...</td>\n",
       "      <td>134.570007</td>\n",
       "      <td>1909.099976</td>\n",
       "      <td>49.669998</td>\n",
       "      <td>1076.390015</td>\n",
       "      <td>190.550003</td>\n",
       "      <td>30043000.0</td>\n",
       "      <td>3037400.0</td>\n",
       "      <td>124442400.0</td>\n",
       "      <td>1693200.0</td>\n",
       "      <td>16378900.0</td>\n",
       "    </tr>\n",
       "    <tr>\n",
       "      <th>2019-07-01</th>\n",
       "      <td>132.745392</td>\n",
       "      <td>1922.189941</td>\n",
       "      <td>49.459972</td>\n",
       "      <td>1097.949951</td>\n",
       "      <td>193.000000</td>\n",
       "      <td>135.679993</td>\n",
       "      <td>1922.189941</td>\n",
       "      <td>50.387501</td>\n",
       "      <td>1097.949951</td>\n",
       "      <td>193.000000</td>\n",
       "      <td>...</td>\n",
       "      <td>136.630005</td>\n",
       "      <td>1922.979980</td>\n",
       "      <td>50.792500</td>\n",
       "      <td>1098.000000</td>\n",
       "      <td>195.210007</td>\n",
       "      <td>22613500.0</td>\n",
       "      <td>3192100.0</td>\n",
       "      <td>109012000.0</td>\n",
       "      <td>1436300.0</td>\n",
       "      <td>14181800.0</td>\n",
       "    </tr>\n",
       "  </tbody>\n",
       "</table>\n",
       "<p>125 rows × 30 columns</p>\n",
       "</div>"
      ],
      "text/plain": [
       "Attributes   Adj Close                                                   \\\n",
       "Symbols           MSFT         AMZN       AAPL         GOOG          FB   \n",
       "Date                                                                      \n",
       "2019-01-02   98.148849  1539.130005  38.439735  1045.849976  135.679993   \n",
       "2019-01-03   94.538162  1500.280029  34.610851  1016.059998  131.740005   \n",
       "2019-01-04   98.935059  1575.390015  36.088364  1070.709961  137.949997   \n",
       "2019-01-07   99.061226  1629.510010  36.008041  1068.390015  138.050003   \n",
       "2019-01-08   99.779510  1656.579956  36.694466  1076.280029  142.529999   \n",
       "...                ...          ...        ...          ...         ...   \n",
       "2019-06-25  130.544037  1878.270020  47.992500  1086.349976  188.839996   \n",
       "2019-06-26  131.033249  1897.829956  49.030533  1079.800049  187.660004   \n",
       "2019-06-27  131.248459  1904.280029  49.015808  1076.010010  189.500000   \n",
       "2019-06-28  131.062592  1893.630005  48.569180  1080.910034  193.000000   \n",
       "2019-07-01  132.745392  1922.189941  49.459972  1097.949951  193.000000   \n",
       "\n",
       "Attributes       Close                                                   ...  \\\n",
       "Symbols           MSFT         AMZN       AAPL         GOOG          FB  ...   \n",
       "Date                                                                     ...   \n",
       "2019-01-02  101.120003  1539.130005  39.480000  1045.849976  135.679993  ...   \n",
       "2019-01-03   97.400002  1500.280029  35.547501  1016.059998  131.740005  ...   \n",
       "2019-01-04  101.930000  1575.390015  37.064999  1070.709961  137.949997  ...   \n",
       "2019-01-07  102.059998  1629.510010  36.982498  1068.390015  138.050003  ...   \n",
       "2019-01-08  102.800003  1656.579956  37.687500  1076.280029  142.529999  ...   \n",
       "...                ...          ...        ...          ...         ...  ...   \n",
       "2019-06-25  133.429993  1878.270020  48.892502  1086.349976  188.839996  ...   \n",
       "2019-06-26  133.929993  1897.829956  49.950001  1079.800049  187.660004  ...   \n",
       "2019-06-27  134.149994  1904.280029  49.935001  1076.010010  189.500000  ...   \n",
       "2019-06-28  133.960007  1893.630005  49.480000  1080.910034  193.000000  ...   \n",
       "2019-07-01  135.679993  1922.189941  50.387501  1097.949951  193.000000  ...   \n",
       "\n",
       "Attributes        Open                                                   \\\n",
       "Symbols           MSFT         AMZN       AAPL         GOOG          FB   \n",
       "Date                                                                      \n",
       "2019-01-02   99.550003  1465.199951  38.722500  1016.570007  128.990005   \n",
       "2019-01-03  100.099998  1520.010010  35.994999  1041.000000  134.690002   \n",
       "2019-01-04   99.720001  1530.000000  36.132500  1032.589966  134.009995   \n",
       "2019-01-07  101.639999  1602.310059  37.174999  1071.500000  137.559998   \n",
       "2019-01-08  103.040001  1664.689941  37.389999  1076.109985  139.889999   \n",
       "...                ...          ...        ...          ...         ...   \n",
       "2019-06-25  137.250000  1911.839966  49.607498  1112.660034  192.880005   \n",
       "2019-06-26  134.350006  1892.479980  49.442501  1086.500000  189.539993   \n",
       "2019-06-27  134.139999  1902.000000  50.072498  1084.000000  189.880005   \n",
       "2019-06-28  134.570007  1909.099976  49.669998  1076.390015  190.550003   \n",
       "2019-07-01  136.630005  1922.979980  50.792500  1098.000000  195.210007   \n",
       "\n",
       "Attributes      Volume                                                 \n",
       "Symbols           MSFT       AMZN         AAPL       GOOG          FB  \n",
       "Date                                                                   \n",
       "2019-01-02  35329300.0  7983100.0  148158800.0  1532600.0  28146200.0  \n",
       "2019-01-03  42579100.0  6975600.0  365248800.0  1841100.0  22717900.0  \n",
       "2019-01-04  44060600.0  9182600.0  234428400.0  2093900.0  29002100.0  \n",
       "2019-01-07  35656100.0  7993200.0  219111200.0  1981900.0  20089300.0  \n",
       "2019-01-08  31514400.0  8881400.0  164101200.0  1764900.0  26263800.0  \n",
       "...                ...        ...          ...        ...         ...  \n",
       "2019-06-25  33327400.0  3012300.0   84281200.0  1546900.0  16750300.0  \n",
       "2019-06-26  23657700.0  2441900.0  104270000.0  1810900.0  12808600.0  \n",
       "2019-06-27  16557500.0  2141700.0   83598800.0  1004300.0  11159000.0  \n",
       "2019-06-28  30043000.0  3037400.0  124442400.0  1693200.0  16378900.0  \n",
       "2019-07-01  22613500.0  3192100.0  109012000.0  1436300.0  14181800.0  \n",
       "\n",
       "[125 rows x 30 columns]"
      ]
     },
     "execution_count": 6,
     "metadata": {},
     "output_type": "execute_result"
    }
   ],
   "source": [
    "stock_data"
   ]
  },
  {
   "cell_type": "markdown",
   "metadata": {},
   "source": [
    "### 3. Plot the adjusted closing prices over time."
   ]
  },
  {
   "cell_type": "markdown",
   "metadata": {},
   "source": [
    "Create a plot with matplotlib that shows the adjusted closing prices of each stock over time. Set the x label to `\"Date\"`. Set the y label to `\"Adjusted Closing Price Over Time\"`. Set the graph title to `\"Tech Stocks Adjusted Price\"`."
   ]
  },
  {
   "cell_type": "code",
   "execution_count": 7,
   "metadata": {
    "ExecuteTime": {
     "end_time": "2019-09-20T17:41:01.873022Z",
     "start_time": "2019-09-20T17:41:01.687043Z"
    }
   },
   "outputs": [
    {
     "data": {
      "image/png": "[encoded data removed]",
      "text/plain": [
       "<Figure size 432x288 with 1 Axes>"
      ]
     },
     "metadata": {
      "needs_background": "light"
     },
     "output_type": "display_data"
    }
   ],
   "source": [
    "stock_data_closing_prices = stock_data['Adj Close']\n",
    "stock_data_closing_prices.plot()\n",
    "plt.xlabel(\"Date\")\n",
    "plt.ylabel(\"Adjusted Closing Price\")\n",
    "plt.title(\"Tech Stocks Adjusted Price Over Time\")\n",
    "plt.show()"
   ]
  },
  {
   "cell_type": "markdown",
   "metadata": {},
   "source": [
    "### 4. Calculate and plot the daily simple rate of return over time.\n",
    "Create a plot with matplotlib that shows the daily simple rate of return for each tech stock over time. Label the graph appropriately. "
   ]
  },
  {
   "cell_type": "code",
   "execution_count": 8,
   "metadata": {
    "ExecuteTime": {
     "end_time": "2019-09-20T17:41:17.173004Z",
     "start_time": "2019-09-20T17:41:16.974468Z"
    }
   },
   "outputs": [
    {
     "data": {
      "image/png": "[encoded data removed]",
      "text/plain": [
       "<Figure size 432x288 with 1 Axes>"
      ]
     },
     "metadata": {
      "needs_background": "light"
     },
     "output_type": "display_data"
    },
    {
     "data": {
      "text/plain": [
       "<Figure size 1152x648 with 0 Axes>"
      ]
     },
     "metadata": {},
     "output_type": "display_data"
    }
   ],
   "source": [
    "stock_data_daily_returns = stock_data['Adj Close'].pct_change()\n",
    "stock_data_daily_returns.plot()\n",
    "plt.xlabel(\"Date\")\n",
    "plt.ylabel(\"ROR\")\n",
    "plt.title(\"Daily Simple Rate of Return Over time\")\n",
    "plt.figure(figsize=(16,9))\n",
    "plt.show()"
   ]
  },
  {
   "cell_type": "markdown",
   "metadata": {},
   "source": [
    "### 5. Create subplots of daily simple rate of return.\n",
    "In order to better visualize the daily returns, create a subplot for each tech stock. "
   ]
  },
  {
   "cell_type": "code",
   "execution_count": null,
   "metadata": {
    "ExecuteTime": {
     "end_time": "2019-09-20T17:41:36.728365Z",
     "start_time": "2019-09-20T17:41:36.399525Z"
    }
   },
   "outputs": [],
   "source": []
  },
  {
   "cell_type": "markdown",
   "metadata": {},
   "source": [
    "### 6. Calculate and plot the mean of each tech stock's daily simple rate of return"
   ]
  },
  {
   "cell_type": "markdown",
   "metadata": {},
   "source": [
    "#### Step 1: Calculate mean rate of return\n",
    "For each stock, calculate the mean daily simple rate of return.\n",
    "#### Step 2: Plot bar chart\n",
    "Use matplotlib to create a bar chart comparing the mean daily simple rate of return for each stock. Label the chart appropriately\n",
    "#### Step 3: Analyze mean rate of return\n",
    "Based on the mean rate of return, which stock would be the best option to invest in?"
   ]
  },
  {
   "cell_type": "code",
   "execution_count": null,
   "metadata": {
    "ExecuteTime": {
     "end_time": "2019-09-20T17:50:45.153005Z",
     "start_time": "2019-09-20T17:50:45.142751Z"
    }
   },
   "outputs": [],
   "source": []
  },
  {
   "cell_type": "markdown",
   "metadata": {},
   "source": [
    "Facebook has the highest mean simple rate of return over the period of data collected. Thus Facebook would have been a good choice for investment over this period of time. Google, on the other hand, has the lowest mean simple rate of return over the period."
   ]
  },
  {
   "cell_type": "markdown",
   "metadata": {},
   "source": [
    "### 7. Calculate and plot the variance."
   ]
  },
  {
   "cell_type": "markdown",
   "metadata": {},
   "source": [
    "#### Step 1: Calculate the variance\n",
    "For each stock, calculate the variance of the mean daily simple rate of return.\n",
    "#### Step 2: Plot bar chart\n",
    "Use matplotlib to create a bar chart comparing the variance for each stock. Label the chart appropriately\n",
    "#### Step 3: Analyse the variance\n",
    "Based on the variance, which stock would be the riskiest to invest in?"
   ]
  },
  {
   "cell_type": "code",
   "execution_count": null,
   "metadata": {
    "ExecuteTime": {
     "end_time": "2019-09-20T17:55:30.943434Z",
     "start_time": "2019-09-20T17:55:30.796988Z"
    }
   },
   "outputs": [],
   "source": []
  },
  {
   "cell_type": "markdown",
   "metadata": {},
   "source": [
    "Facebook shows the highest variance of all the stocks, indicating it can be a riskier investment. Google shows the lowest variance, indicating that the returns are more predictable. This goes along with the typical understanding of higher return, high risks stocks, and lower return, low risk stocks."
   ]
  },
  {
   "cell_type": "markdown",
   "metadata": {},
   "source": [
    "### 8. Calculate and plot the standard deviation"
   ]
  },
  {
   "cell_type": "markdown",
   "metadata": {},
   "source": [
    "#### Step 1: Calculate the standard deviation\n",
    "For each stock, calculate the standard deviation of the mean daily simple rate of return.\n",
    "\n",
    "#### Step 2: Plot the bar chart\n",
    "Use matplotlib to create a bar chart comparing the standard deviation of the mean daily simple rate of return of each stock. Label the chart appropriately\n",
    "\n",
    "#### Step 3: Analyze the standard deviation\n",
    "Based on the standard deviation of the rates of return, which stock would you choose to invest in and why?"
   ]
  },
  {
   "cell_type": "code",
   "execution_count": null,
   "metadata": {
    "ExecuteTime": {
     "end_time": "2019-09-20T17:57:35.824949Z",
     "start_time": "2019-09-20T17:57:35.725823Z"
    }
   },
   "outputs": [],
   "source": []
  },
  {
   "cell_type": "markdown",
   "metadata": {
    "ExecuteTime": {
     "end_time": "2019-09-20T18:20:15.272923Z",
     "start_time": "2019-09-20T18:20:15.108312Z"
    }
   },
   "source": [
    "The answer to this question depends on your investment preferences. Facebook is the most volatile stock, as it has the largest standard deviation. It also, however, has the largest mean return. If you are a more risky investor, this could be your stock of choice. Google, on the other hand, is the least volatile stock, but has the lowest mean return."
   ]
  },
  {
   "cell_type": "markdown",
   "metadata": {},
   "source": [
    "### 9. Calculate the correlations\n",
    "Calculate the correlations between each of the stocks. Which stocks are positively correlated? Which are negatively correlated? Which have little correlation?"
   ]
  },
  {
   "cell_type": "code",
   "execution_count": null,
   "metadata": {
    "ExecuteTime": {
     "end_time": "2019-09-20T18:20:31.790079Z",
     "start_time": "2019-09-20T18:20:31.774044Z"
    }
   },
   "outputs": [],
   "source": []
  },
  {
   "cell_type": "markdown",
   "metadata": {},
   "source": [
    "None of the stocks are negatively correlated. Microsoft and Google are highly correlated, while Facebook and Apple exhibit the lowest correlation."
   ]
  }
 ],
 "metadata": {
  "kernelspec": {
   "display_name": "Python 3",
   "language": "python",
   "name": "python3"
  },
  "language_info": {
   "codemirror_mode": {
    "name": "ipython",
    "version": 3
   },
   "file_extension": ".py",
   "mimetype": "text/x-python",
   "name": "python",
   "nbconvert_exporter": "python",
   "pygments_lexer": "ipython3",
   "version": "3.8.5"
  },
  "latex_envs": {
   "LaTeX_envs_menu_present": true,
   "autoclose": false,
   "autocomplete": true,
   "bibliofile": "biblio.bib",
   "cite_by": "apalike",
   "current_citInitial": 1,
   "eqLabelWithNumbers": true,
   "eqNumInitial": 1,
   "hotkeys": {
    "equation": "Ctrl-E",
    "itemize": "Ctrl-I"
   },
   "labels_anchors": false,
   "latex_user_defs": false,
   "report_style_numbering": false,
   "user_envs_cfg": false
  }
 },
 "nbformat": 4,
 "nbformat_minor": 2
}
